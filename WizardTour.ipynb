{
 "cells": [
  {
   "cell_type": "code",
   "execution_count": 48,
   "metadata": {},
   "outputs": [],
   "source": [
    "from collections import deque as queue\n"
   ]
  },
  {
   "cell_type": "code",
   "execution_count": 51,
   "metadata": {},
   "outputs": [
    {
     "name": "stdout",
     "output_type": "stream",
     "text": [
      "0 0 0 0 0 0 0 0 Finish point found 12\n",
      "0 0 0 0 0 0 0 0 0 0 0 0 0 Finish point found 17\n",
      "0 0 0 Finish point found 8\n",
      "Wizard One Time =  10.0\n",
      "Wizard Two Time =  11.333333333333334\n",
      "Wizard Three Time =  4.705882352941177\n"
     ]
    }
   ],
   "source": [
    "waysX = [-1,0,1,0]\n",
    "waysY = [0,1,0,-1]\n",
    "\n",
    "# x = V . T = // Time = Velocity / Road (move)\n",
    "\n",
    "def isWayValid(vis,x,y):\n",
    "    if (x < 0 or y < 0 or x >= 5 or y >= 6):\n",
    "        return False\n",
    "    \n",
    "    # if its already visited\n",
    "    if(vis[x][y]):\n",
    "        return False\n",
    "    \n",
    "    return True\n",
    "\n",
    "def BFS(Lab,start,finish):\n",
    "    booleanVisit = [[False for i in range(6)] for i in range(5)]\n",
    "    flag = 0\n",
    "    move_counter = 0\n",
    "    q = queue()\n",
    "\n",
    "    q.append(start)\n",
    "    booleanVisit[start[0]][start[1]] = True\n",
    "    if booleanVisit[finish[0]][finish[1]] == True:\n",
    "        flag = 1\n",
    "        print(\"Finish point found\",flag)\n",
    "\n",
    "    while len(q) > 0:\n",
    "        if booleanVisit[finish[0]][finish[1]] == True:\n",
    "                    flag = 1\n",
    "                    print(\"Finish point found\",move_counter)\n",
    "                    break \n",
    "        cell = q.popleft()\n",
    "        x = cell[0]\n",
    "        y = cell[1]\n",
    "        print(Lab[x][y], end = \" \")\n",
    "        \n",
    "        for i in range(4):\n",
    "            if booleanVisit[finish[0]][finish[1]] == True:\n",
    "                    flag = 1\n",
    "                    break\n",
    "            adjx = x + waysX[i]\n",
    "            adjy = y + waysY[i]\n",
    "            if isWayValid(booleanVisit,adjx,adjy) and not booleanVisit[adjx][adjy]:\n",
    "                q.append((adjx,adjy))\n",
    "                move_counter +=1\n",
    "                booleanVisit[adjx][adjy] = True\n",
    "                if booleanVisit[finish[0]][finish[1]] == True:\n",
    "                    flag = 1\n",
    "                    break         \n",
    "    return move_counter\n",
    "Labyrinth = [[0,0,0,0,0,0],\n",
    "             [0,0,0,0,0,0],\n",
    "             [0,0,1,0,0,0],\n",
    "             [0,0,0,0,0,0],\n",
    "             [0,0,0,0,0,0]]\n",
    "\n",
    "wizardOne_startPos = (0,0)\n",
    "wizardTwo_startPos = (4,5) \n",
    "wizardThree_startPos = (1,1)\n",
    "wizardOne_speed = 1.2\n",
    "wizardTwo_speed = 1.5\n",
    "wizardThree_speed = 1.7\n",
    "destPost = (2,2)\n",
    "\n",
    "\n",
    "WizardOneMove = BFS(Labyrinth,wizardOne_startPos,destPost)\n",
    "WizardTwoMove = BFS(Labyrinth,wizardTwo_startPos,destPost)\n",
    "WizardThreeMove = BFS(Labyrinth,wizardThree_startPos,destPost)\n",
    "\n",
    "\n",
    "\n",
    "print(\"Wizard One Time = \", WizardOneMove  / wizardOne_speed)\n",
    "print(\"Wizard Two Time = \", WizardTwoMove / wizardTwo_speed)\n",
    "print(\"Wizard Three Time = \", WizardThreeMove / wizardThree_speed)\n",
    "\n",
    "\n"
   ]
  }
 ],
 "metadata": {
  "kernelspec": {
   "display_name": "Python 3",
   "language": "python",
   "name": "python3"
  },
  "language_info": {
   "codemirror_mode": {
    "name": "ipython",
    "version": 3
   },
   "file_extension": ".py",
   "mimetype": "text/x-python",
   "name": "python",
   "nbconvert_exporter": "python",
   "pygments_lexer": "ipython3",
   "version": "3.10.2"
  },
  "orig_nbformat": 4
 },
 "nbformat": 4,
 "nbformat_minor": 2
}
